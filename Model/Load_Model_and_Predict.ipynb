{
 "cells": [
  {
   "cell_type": "code",
   "execution_count": 52,
   "metadata": {},
   "outputs": [],
   "source": [
    "import tensorflow as tf\n",
    "import numpy as np\n",
    "import pandas as pd\n",
    "import matplotlib.pyplot as plt"
   ]
  },
  {
   "cell_type": "code",
   "execution_count": 53,
   "metadata": {},
   "outputs": [],
   "source": [
    "data = pd.read_excel(\"SET50 1 Day.xlsx\",\n",
    "    sheet_name=0,\n",
    "    header=0,\n",
    "    index_col=\"Date\",\n",
    "    keep_default_na=True\n",
    ")"
   ]
  },
  {
   "cell_type": "code",
   "execution_count": 54,
   "metadata": {},
   "outputs": [],
   "source": [
    "data[\"y\"] = data[\"Close\"].shift(periods=-1)\n",
    "data = data.drop(\"Volume\",axis = 1)\n",
    "data = data.dropna()\n",
    "data_np = data.to_numpy()\n",
    "data[\"Date\"] = data.index\n",
    "data.index = np.arange(-9, len(data) -9)"
   ]
  },
  {
   "cell_type": "code",
   "execution_count": 55,
   "metadata": {},
   "outputs": [
    {
     "data": {
      "text/html": [
       "<div>\n",
       "<style scoped>\n",
       "    .dataframe tbody tr th:only-of-type {\n",
       "        vertical-align: middle;\n",
       "    }\n",
       "\n",
       "    .dataframe tbody tr th {\n",
       "        vertical-align: top;\n",
       "    }\n",
       "\n",
       "    .dataframe thead th {\n",
       "        text-align: right;\n",
       "    }\n",
       "</style>\n",
       "<table border=\"1\" class=\"dataframe\">\n",
       "  <thead>\n",
       "    <tr style=\"text-align: right;\">\n",
       "      <th></th>\n",
       "      <th>Open</th>\n",
       "      <th>High</th>\n",
       "      <th>Low</th>\n",
       "      <th>Close</th>\n",
       "      <th>y</th>\n",
       "      <th>Date</th>\n",
       "    </tr>\n",
       "  </thead>\n",
       "  <tbody>\n",
       "    <tr>\n",
       "      <td>-9</td>\n",
       "      <td>969.10</td>\n",
       "      <td>970.80</td>\n",
       "      <td>966.90</td>\n",
       "      <td>967.10</td>\n",
       "      <td>972.20</td>\n",
       "      <td>1996-06-17</td>\n",
       "    </tr>\n",
       "    <tr>\n",
       "      <td>-8</td>\n",
       "      <td>967.10</td>\n",
       "      <td>973.00</td>\n",
       "      <td>964.90</td>\n",
       "      <td>972.20</td>\n",
       "      <td>966.80</td>\n",
       "      <td>1996-06-18</td>\n",
       "    </tr>\n",
       "    <tr>\n",
       "      <td>-7</td>\n",
       "      <td>972.40</td>\n",
       "      <td>975.50</td>\n",
       "      <td>966.30</td>\n",
       "      <td>966.80</td>\n",
       "      <td>956.60</td>\n",
       "      <td>1996-06-19</td>\n",
       "    </tr>\n",
       "    <tr>\n",
       "      <td>-6</td>\n",
       "      <td>966.80</td>\n",
       "      <td>968.80</td>\n",
       "      <td>956.40</td>\n",
       "      <td>956.60</td>\n",
       "      <td>956.30</td>\n",
       "      <td>1996-06-20</td>\n",
       "    </tr>\n",
       "    <tr>\n",
       "      <td>-5</td>\n",
       "      <td>956.40</td>\n",
       "      <td>959.00</td>\n",
       "      <td>953.70</td>\n",
       "      <td>956.30</td>\n",
       "      <td>950.70</td>\n",
       "      <td>1996-06-21</td>\n",
       "    </tr>\n",
       "    <tr>\n",
       "      <td>...</td>\n",
       "      <td>...</td>\n",
       "      <td>...</td>\n",
       "      <td>...</td>\n",
       "      <td>...</td>\n",
       "      <td>...</td>\n",
       "      <td>...</td>\n",
       "    </tr>\n",
       "    <tr>\n",
       "      <td>6793</td>\n",
       "      <td>1048.78</td>\n",
       "      <td>1062.44</td>\n",
       "      <td>1046.73</td>\n",
       "      <td>1058.03</td>\n",
       "      <td>1056.32</td>\n",
       "      <td>2019-01-17</td>\n",
       "    </tr>\n",
       "    <tr>\n",
       "      <td>6794</td>\n",
       "      <td>1058.03</td>\n",
       "      <td>1063.75</td>\n",
       "      <td>1055.77</td>\n",
       "      <td>1056.32</td>\n",
       "      <td>1060.95</td>\n",
       "      <td>2019-01-18</td>\n",
       "    </tr>\n",
       "    <tr>\n",
       "      <td>6795</td>\n",
       "      <td>1056.32</td>\n",
       "      <td>1062.23</td>\n",
       "      <td>1056.04</td>\n",
       "      <td>1060.95</td>\n",
       "      <td>1066.79</td>\n",
       "      <td>2019-01-19</td>\n",
       "    </tr>\n",
       "    <tr>\n",
       "      <td>6796</td>\n",
       "      <td>1062.75</td>\n",
       "      <td>1069.80</td>\n",
       "      <td>1061.81</td>\n",
       "      <td>1066.79</td>\n",
       "      <td>1068.26</td>\n",
       "      <td>2019-01-21</td>\n",
       "    </tr>\n",
       "    <tr>\n",
       "      <td>6797</td>\n",
       "      <td>1066.79</td>\n",
       "      <td>1069.92</td>\n",
       "      <td>1062.89</td>\n",
       "      <td>1068.26</td>\n",
       "      <td>1073.73</td>\n",
       "      <td>2019-01-22</td>\n",
       "    </tr>\n",
       "  </tbody>\n",
       "</table>\n",
       "<p>6807 rows × 6 columns</p>\n",
       "</div>"
      ],
      "text/plain": [
       "          Open     High      Low    Close        y       Date\n",
       "-9      969.10   970.80   966.90   967.10   972.20 1996-06-17\n",
       "-8      967.10   973.00   964.90   972.20   966.80 1996-06-18\n",
       "-7      972.40   975.50   966.30   966.80   956.60 1996-06-19\n",
       "-6      966.80   968.80   956.40   956.60   956.30 1996-06-20\n",
       "-5      956.40   959.00   953.70   956.30   950.70 1996-06-21\n",
       "...        ...      ...      ...      ...      ...        ...\n",
       " 6793  1048.78  1062.44  1046.73  1058.03  1056.32 2019-01-17\n",
       " 6794  1058.03  1063.75  1055.77  1056.32  1060.95 2019-01-18\n",
       " 6795  1056.32  1062.23  1056.04  1060.95  1066.79 2019-01-19\n",
       " 6796  1062.75  1069.80  1061.81  1066.79  1068.26 2019-01-21\n",
       " 6797  1066.79  1069.92  1062.89  1068.26  1073.73 2019-01-22\n",
       "\n",
       "[6807 rows x 6 columns]"
      ]
     },
     "execution_count": 55,
     "metadata": {},
     "output_type": "execute_result"
    }
   ],
   "source": [
    "data"
   ]
  },
  {
   "cell_type": "code",
   "execution_count": 56,
   "metadata": {},
   "outputs": [],
   "source": [
    "def windowed_dataset(data_np, timestep = 10):\n",
    "    X = np.array(data_np[0:timestep,:-1])\n",
    "    X = np.expand_dims(X, axis=-1)\n",
    "    X = np.reshape(X,(1,timestep,4))\n",
    "    for i in range(data_np.shape[0] - timestep + 1):\n",
    "        add = data_np[i:timestep+i,:-1]\n",
    "        add = np.expand_dims(add, axis=-1)\n",
    "        add = np.reshape(add,(1,timestep,4))\n",
    "        X = np.concatenate((X,add),axis=0)\n",
    "    Y = data_np[timestep:,-1]\n",
    "    return X,Y"
   ]
  },
  {
   "cell_type": "code",
   "execution_count": 57,
   "metadata": {},
   "outputs": [],
   "source": [
    "X,Y = windowed_dataset(data_np)"
   ]
  },
  {
   "cell_type": "code",
   "execution_count": 58,
   "metadata": {},
   "outputs": [],
   "source": [
    "loaded_model = tf.keras.models.load_model('my_model')"
   ]
  },
  {
   "cell_type": "code",
   "execution_count": 59,
   "metadata": {},
   "outputs": [],
   "source": [
    "def predict(index):\n",
    "    return loaded_model.predict(X[index:index+1,:,:])[0,0]"
   ]
  },
  {
   "cell_type": "code",
   "execution_count": 60,
   "metadata": {},
   "outputs": [
    {
     "data": {
      "text/plain": [
       "1048.4877"
      ]
     },
     "execution_count": 60,
     "metadata": {},
     "output_type": "execute_result"
    }
   ],
   "source": [
    "# ใส่ index ของวันที่จะทำนาย เช่นวันที่ 2019-01-17 จะมี index ใน dataframe data คือ 6793\n",
    "# จะได้ค่า Close ของวันถัดไป (2019-01-18) มาโดยใช้ข้อมูลของ 10 วันก่อนหน้า (2019-01-08 - 2019-01-17)\n",
    "\n",
    "predict(6793)"
   ]
  }
 ],
 "metadata": {
  "kernelspec": {
   "display_name": "Python 3",
   "language": "python",
   "name": "python3"
  },
  "language_info": {
   "codemirror_mode": {
    "name": "ipython",
    "version": 3
   },
   "file_extension": ".py",
   "mimetype": "text/x-python",
   "name": "python",
   "nbconvert_exporter": "python",
   "pygments_lexer": "ipython3",
   "version": "3.7.6"
  }
 },
 "nbformat": 4,
 "nbformat_minor": 2
}
